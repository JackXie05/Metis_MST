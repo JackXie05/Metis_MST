{
 "cells": [
  {
   "cell_type": "code",
   "execution_count": 2,
   "id": "3f09c340-1213-48ef-a5ac-8252a89d9706",
   "metadata": {},
   "outputs": [
    {
     "name": "stdout",
     "output_type": "stream",
     "text": [
      "Generating frames...\n",
      "Assembling MOV with FFmpeg...\n"
     ]
    },
    {
     "name": "stderr",
     "output_type": "stream",
     "text": [
      "ffmpeg version 7.1.1 Copyright (c) 2000-2025 the FFmpeg developers\n",
      "  built with Apple clang version 17.0.0 (clang-1700.0.13.3)\n",
      "  configuration: --prefix=/opt/homebrew/Cellar/ffmpeg/7.1.1_3 --enable-shared --enable-pthreads --enable-version3 --cc=clang --host-cflags= --host-ldflags='-Wl,-ld_classic' --enable-ffplay --enable-gnutls --enable-gpl --enable-libaom --enable-libaribb24 --enable-libbluray --enable-libdav1d --enable-libharfbuzz --enable-libjxl --enable-libmp3lame --enable-libopus --enable-librav1e --enable-librist --enable-librubberband --enable-libsnappy --enable-libsrt --enable-libssh --enable-libsvtav1 --enable-libtesseract --enable-libtheora --enable-libvidstab --enable-libvmaf --enable-libvorbis --enable-libvpx --enable-libwebp --enable-libx264 --enable-libx265 --enable-libxml2 --enable-libxvid --enable-lzma --enable-libfontconfig --enable-libfreetype --enable-frei0r --enable-libass --enable-libopencore-amrnb --enable-libopencore-amrwb --enable-libopenjpeg --enable-libspeex --enable-libsoxr --enable-libzmq --enable-libzimg --disable-libjack --disable-indev=jack --enable-videotoolbox --enable-audiotoolbox --enable-neon\n",
      "  libavutil      59. 39.100 / 59. 39.100\n",
      "  libavcodec     61. 19.101 / 61. 19.101\n",
      "  libavformat    61.  7.100 / 61.  7.100\n",
      "  libavdevice    61.  3.100 / 61.  3.100\n",
      "  libavfilter    10.  4.100 / 10.  4.100\n",
      "  libswscale      8.  3.100 /  8.  3.100\n",
      "  libswresample   5.  3.100 /  5.  3.100\n",
      "  libpostproc    58.  3.100 / 58.  3.100\n",
      "Input #0, image2, from 'frames/frame_%03d.png':\n",
      "  Duration: 00:00:12.00, start: 0.000000, bitrate: N/A\n",
      "  Stream #0:0: Video: png, rgba(pc, gbr/unknown/unknown), 1000x800 [SAR 3937:3937 DAR 5:4], 15 fps, 15 tbr, 15 tbn\n",
      "Stream mapping:\n",
      "  Stream #0:0 -> #0:0 (png (native) -> prores (prores_ks))\n",
      "Press [q] to stop, [?] for help\n",
      "Output #0, mov, to 'mu000_3d_normal_with_mst_transparent.mov':\n",
      "  Metadata:\n",
      "    encoder         : Lavf61.7.100\n",
      "  Stream #0:0: Video: prores (4444) (ap4h / 0x68347061), yuva444p10le(tv, progressive), 1000x800 [SAR 1:1 DAR 5:4], q=2-31, 200 kb/s, 15 fps, 15360 tbn\n",
      "      Metadata:\n",
      "        encoder         : Lavc61.19.101 prores_ks\n",
      "frame=  103 fps=102 q=-0.0 size=   27904KiB time=00:00:06.93 bitrate=32969.7kbits/s speed=6.86x    "
     ]
    },
    {
     "name": "stdout",
     "output_type": "stream",
     "text": [
      "MOV file with transparent background saved to: mu000_3d_normal_with_mst_transparent.mov\n"
     ]
    },
    {
     "name": "stderr",
     "output_type": "stream",
     "text": [
      "[out#0/mov @ 0x600003ae4000] video:49891KiB audio:0KiB subtitle:0KiB other streams:0KiB global headers:0KiB muxing overhead: 0.003517%\n",
      "frame=  180 fps=114 q=-0.0 Lsize=   49893KiB time=00:00:12.00 bitrate=34060.4kbits/s speed=7.61x    \n"
     ]
    }
   ],
   "source": [
    "import numpy as np\n",
    "import matplotlib.pyplot as plt\n",
    "from mpl_toolkits.mplot3d import Axes3D\n",
    "from scipy.spatial import distance_matrix\n",
    "from scipy.sparse.csgraph import minimum_spanning_tree\n",
    "import os\n",
    "import subprocess\n",
    "\n",
    "# Global settings\n",
    "plt.rcParams.update({\n",
    "    'font.family': 'Arial',\n",
    "    'font.size': 14,\n",
    "    'figure.dpi': 150,\n",
    "    'axes.titlesize': 18,\n",
    "    'axes.titleweight': 'bold',\n",
    "    'axes.labelweight': 'bold',\n",
    "    'savefig.facecolor': 'none'  # crucial: no white background\n",
    "})\n",
    "\n",
    "# =============== Generate 3D normal points ===============\n",
    "np.random.seed(42)\n",
    "n = 100\n",
    "mu = np.array([0, 0, 0])\n",
    "SIGMA = np.array([[3, 1, 1.5],\n",
    "                  [1, 2, 0.5],\n",
    "                  [1.5, 0.5, 2]])\n",
    "\n",
    "data = np.random.multivariate_normal(mu, SIGMA, size=n)\n",
    "x, y, z = data[:, 0], data[:, 1], data[:, 2]\n",
    "points = np.vstack((x, y, z)).T\n",
    "\n",
    "# Compute MST\n",
    "dist_matrix = distance_matrix(points, points)\n",
    "mst_sparse = minimum_spanning_tree(dist_matrix).tocoo()\n",
    "mst_edges = [(i, j) for i, j in zip(mst_sparse.row, mst_sparse.col)]\n",
    "\n",
    "# Create figure and axis\n",
    "fig = plt.figure(figsize=(10, 8))\n",
    "fig.patch.set_alpha(0.0)  # transparent figure\n",
    "ax = fig.add_subplot(111, projection='3d')\n",
    "\n",
    "scatter = ax.scatter(x, y, z,\n",
    "                     c=z, cmap='viridis', s=20, alpha=0.8,\n",
    "                     edgecolors='w', linewidth=0.2)\n",
    "\n",
    "lines = []\n",
    "for i, j in mst_edges:\n",
    "    xi, yi, zi = points[i]\n",
    "    xj, yj, zj = points[j]\n",
    "    line, = ax.plot([xi, xj], [yi, yj], [zi, zj], color='red', linewidth=0.8, alpha=0.7)\n",
    "    lines.append(line)\n",
    "\n",
    "xlim = (mu[0] - 4*np.sqrt(SIGMA[0,0]), mu[0] + 4*np.sqrt(SIGMA[0,0]))\n",
    "ylim = (mu[1] - 4*np.sqrt(SIGMA[1,1]), mu[1] + 4*np.sqrt(SIGMA[1,1]))\n",
    "zlim = (mu[2] - 4*np.sqrt(SIGMA[2,2]), mu[2] + 4*np.sqrt(SIGMA[2,2]))\n",
    "\n",
    "ax.set_xlim(xlim)\n",
    "ax.set_ylim(ylim)\n",
    "ax.set_zlim(zlim)\n",
    "\n",
    "# Output folder for frames\n",
    "frames_dir = \"frames\"\n",
    "if not os.path.exists(frames_dir):\n",
    "    os.makedirs(frames_dir)\n",
    "\n",
    "print(\"Generating frames...\")\n",
    "# Generate frames with transparent background\n",
    "for i, angle in enumerate(range(0, 360, 2)):\n",
    "    ax.view_init(elev=25, azim=angle)\n",
    "    plt.savefig(f\"{frames_dir}/frame_{i:03d}.png\", dpi=100, transparent=True)\n",
    "\n",
    "plt.close(fig)\n",
    "\n",
    "# =============== Assemble MOV with FFmpeg ===============\n",
    "mov_path = \"mu000_3d_normal_with_mst_transparent.mov\"\n",
    "print(\"Assembling MOV with FFmpeg...\")\n",
    "\n",
    "cmd = [\n",
    "    \"ffmpeg\", \"-y\",\n",
    "    \"-framerate\", \"15\",\n",
    "    \"-i\", f\"{frames_dir}/frame_%03d.png\",\n",
    "    \"-c:v\", \"prores_ks\",\n",
    "    \"-profile:v\", \"4\",\n",
    "    \"-pix_fmt\", \"yuva444p10le\",\n",
    "    mov_path\n",
    "]\n",
    "subprocess.run(cmd, check=True)\n",
    "\n",
    "print(f\"MOV file with transparent background saved to: {mov_path}\")"
   ]
  },
  {
   "cell_type": "code",
   "execution_count": null,
   "id": "326b4ad0-c098-4f23-a761-ae521828bfa1",
   "metadata": {},
   "outputs": [],
   "source": []
  }
 ],
 "metadata": {
  "kernelspec": {
   "display_name": "Python 3 (ipykernel)",
   "language": "python",
   "name": "python3"
  },
  "language_info": {
   "codemirror_mode": {
    "name": "ipython",
    "version": 3
   },
   "file_extension": ".py",
   "mimetype": "text/x-python",
   "name": "python",
   "nbconvert_exporter": "python",
   "pygments_lexer": "ipython3",
   "version": "3.12.7"
  }
 },
 "nbformat": 4,
 "nbformat_minor": 5
}

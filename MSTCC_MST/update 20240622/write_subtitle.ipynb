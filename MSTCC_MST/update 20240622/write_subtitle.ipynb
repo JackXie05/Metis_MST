{
 "cells": [
  {
   "cell_type": "code",
   "execution_count": null,
   "metadata": {},
   "outputs": [],
   "source": [
    "import linecache\n",
    "\n",
    "def get_line_context(file_path, line_number):\n",
    "     return linecache.getline(file_path, line_number).strip()\n",
    "\n",
    "\n",
    "f = open(\"timewindow.srt\",'w')#读取label.txt文件，没有则创建，‘a’表示再次写入时不覆盖之前的内容\n",
    "for i in range(93):\n",
    "    f.write('%d\\n' %i)\n",
    "    f.write('00:00:%02d,%1d00 --> 00:00:%02d,%1d00\\n' %(i//10,i%10,(i+1)//10,(i+1)%10))\n",
    "    d=get_line_context(\"FromTo.txt\", i+1)\n",
    "    f.write('%s - %s' %(d[:10],d[11:21]))\n",
    "    f.write('\\n\\n')\n",
    "f.close()"
   ]
  }
 ],
 "metadata": {
  "language_info": {
   "name": "python"
  }
 },
 "nbformat": 4,
 "nbformat_minor": 2
}
